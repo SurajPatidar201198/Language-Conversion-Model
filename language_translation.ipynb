{
  "nbformat": 4,
  "nbformat_minor": 0,
  "metadata": {
    "anaconda-cloud": {},
    "kernelspec": {
      "display_name": "Python 3",
      "language": "python",
      "name": "python3"
    },
    "language_info": {
      "codemirror_mode": {
        "name": "ipython",
        "version": 3
      },
      "file_extension": ".py",
      "mimetype": "text/x-python",
      "name": "python",
      "nbconvert_exporter": "python",
      "pygments_lexer": "ipython3",
      "version": "3.5.3"
    },
    "colab": {
      "name": "dlnd_language_translation.ipynb",
      "provenance": [],
      "collapsed_sections": []
    }
  },
  "cells": [
    {
      "cell_type": "markdown",
      "metadata": {
        "collapsed": true,
        "id": "pWR2piMeKpqI",
        "colab_type": "text"
      },
      "source": [
        "# Language Translation\n",
        "In this project, we'll be training a sequence to sequence model on a dataset of English and French sentences that can translate new sentences from English to French.\n",
        "## Get the Data\n",
        "Since translating the whole language of English to French will take lots of time to train, we have provided with a small portion of the English corpus."
      ]
    },
    {
      "cell_type": "code",
      "metadata": {
        "id": "ATO838anKpqK",
        "colab_type": "code",
        "colab": {}
      },
      "source": [
        "\n",
        "import helper\n",
        "import problem_unittests as tests\n",
        "\n",
        "source_path = 'data/small_vocab_en'\n",
        "target_path = 'data/small_vocab_fr'\n",
        "source_text = helper.load_data(source_path)\n",
        "target_text = helper.load_data(target_path)"
      ],
      "execution_count": null,
      "outputs": []
    },
    {
      "cell_type": "markdown",
      "metadata": {
        "id": "ON1RTKqQKpqP",
        "colab_type": "text"
      },
      "source": [
        "## Explore the Data\n",
        "Play around with view_sentence_range to view different parts of the data."
      ]
    },
    {
      "cell_type": "code",
      "metadata": {
        "id": "Xnl-385eKpqQ",
        "colab_type": "code",
        "colab": {},
        "outputId": "7803056f-d7b5-44f6-ce64-c77ace863e24"
      },
      "source": [
        "view_sentence_range = (0, 10)\n",
        "\n",
        "import numpy as np\n",
        "\n",
        "print('Dataset Stats')\n",
        "print('Roughly the number of unique words: {}'.format(len({word: None for word in source_text.split()})))\n",
        "\n",
        "sentences = source_text.split('\\n')\n",
        "word_counts = [len(sentence.split()) for sentence in sentences]\n",
        "print('Number of sentences: {}'.format(len(sentences)))\n",
        "print('Average number of words in a sentence: {}'.format(np.average(word_counts)))\n",
        "\n",
        "print()\n",
        "print('English sentences {} to {}:'.format(*view_sentence_range))\n",
        "print('\\n'.join(source_text.split('\\n')[view_sentence_range[0]:view_sentence_range[1]]))\n",
        "print()\n",
        "print('French sentences {} to {}:'.format(*view_sentence_range))\n",
        "print('\\n'.join(target_text.split('\\n')[view_sentence_range[0]:view_sentence_range[1]]))"
      ],
      "execution_count": null,
      "outputs": [
        {
          "output_type": "stream",
          "text": [
            "Dataset Stats\n",
            "Roughly the number of unique words: 227\n",
            "Number of sentences: 137861\n",
            "Average number of words in a sentence: 13.225277634719028\n",
            "\n",
            "English sentences 0 to 10:\n",
            "new jersey is sometimes quiet during autumn , and it is snowy in april .\n",
            "the united states is usually chilly during july , and it is usually freezing in november .\n",
            "california is usually quiet during march , and it is usually hot in june .\n",
            "the united states is sometimes mild during june , and it is cold in september .\n",
            "your least liked fruit is the grape , but my least liked is the apple .\n",
            "his favorite fruit is the orange , but my favorite is the grape .\n",
            "paris is relaxing during december , but it is usually chilly in july .\n",
            "new jersey is busy during spring , and it is never hot in march .\n",
            "our least liked fruit is the lemon , but my least liked is the grape .\n",
            "the united states is sometimes busy during january , and it is sometimes warm in november .\n",
            "\n",
            "French sentences 0 to 10:\n",
            "new jersey est parfois calme pendant l' automne , et il est neigeux en avril .\n",
            "les états-unis est généralement froid en juillet , et il gèle habituellement en novembre .\n",
            "california est généralement calme en mars , et il est généralement chaud en juin .\n",
            "les états-unis est parfois légère en juin , et il fait froid en septembre .\n",
            "votre moins aimé fruit est le raisin , mais mon moins aimé est la pomme .\n",
            "son fruit préféré est l'orange , mais mon préféré est le raisin .\n",
            "paris est relaxant en décembre , mais il est généralement froid en juillet .\n",
            "new jersey est occupé au printemps , et il est jamais chaude en mars .\n",
            "notre fruit est moins aimé le citron , mais mon moins aimé est le raisin .\n",
            "les états-unis est parfois occupé en janvier , et il est parfois chaud en novembre .\n"
          ],
          "name": "stdout"
        }
      ]
    },
    {
      "cell_type": "markdown",
      "metadata": {
        "id": "rcODvZ5wKpqW",
        "colab_type": "text"
      },
      "source": [
        "## Implement Preprocessing Function\n",
        "### Text to Word Ids\n",
        "\n",
        "We can get the `<EOS>` word id by doing:\n",
        "```python\n",
        "target_vocab_to_int['<EOS>']\n",
        "```\n",
        "You can get other word ids using `source_vocab_to_int` and `target_vocab_to_int`."
      ]
    },
    {
      "cell_type": "code",
      "metadata": {
        "id": "uCf6fSP3KpqW",
        "colab_type": "code",
        "colab": {},
        "outputId": "635303fe-9e46-4625-f02c-6a5b6df56996"
      },
      "source": [
        "def text_to_ids(source_text, target_text, source_vocab_to_int, target_vocab_to_int):\n",
        "    source_id_text = [\n",
        "        [source_vocab_to_int[word] for word in sentence.split()] for sentence in source_text.split('\\n')]\n",
        "    target_id_text = [\n",
        "        [target_vocab_to_int[word] for word in sentence.split()] + [target_vocab_to_int['<EOS>']]\n",
        "        for sentence in target_text.split('\\n')]\n",
        "\n",
        "    return source_id_text, target_id_text\n",
        "\n",
        "tests.test_text_to_ids(text_to_ids)"
      ],
      "execution_count": null,
      "outputs": [
        {
          "output_type": "stream",
          "text": [
            "Tests Passed\n"
          ],
          "name": "stdout"
        }
      ]
    },
    {
      "cell_type": "markdown",
      "metadata": {
        "id": "lVhZaHmwKpqd",
        "colab_type": "text"
      },
      "source": [
        "### Preprocess all the data and save it\n",
        "Running the code cell below will preprocess all the data and save it to file."
      ]
    },
    {
      "cell_type": "code",
      "metadata": {
        "id": "zI78rjG-Kpqd",
        "colab_type": "code",
        "colab": {}
      },
      "source": [
        "helper.preprocess_and_save_data(source_path, target_path, text_to_ids)"
      ],
      "execution_count": null,
      "outputs": []
    },
    {
      "cell_type": "markdown",
      "metadata": {
        "id": "jFkHdXXPKpql",
        "colab_type": "text"
      },
      "source": [
        "# Check Point"
      ]
    },
    {
      "cell_type": "code",
      "metadata": {
        "id": "GTgSMmVdKpqm",
        "colab_type": "code",
        "colab": {}
      },
      "source": [
        "\n",
        "import numpy as np\n",
        "import helper\n",
        "\n",
        "(source_int_text, target_int_text), (source_vocab_to_int, target_vocab_to_int), _ = helper.load_preprocess()"
      ],
      "execution_count": null,
      "outputs": []
    },
    {
      "cell_type": "markdown",
      "metadata": {
        "id": "C4Z91eLiKpqq",
        "colab_type": "text"
      },
      "source": [
        "### Check the Version of TensorFlow and Access to GPU\n",
        "This will check to make sure you have the correct version of TensorFlow and access to a GPU"
      ]
    },
    {
      "cell_type": "code",
      "metadata": {
        "id": "VU_O9SK4Kpqq",
        "colab_type": "code",
        "colab": {},
        "outputId": "887164e7-66b0-454a-e571-9038be364a45"
      },
      "source": [
        "\n",
        "from distutils.version import LooseVersion\n",
        "import warnings\n",
        "import tensorflow as tf\n",
        "from tensorflow.python.layers.core import Dense\n",
        "\n",
        "# Check TensorFlow Version\n",
        "assert LooseVersion(tf.__version__) >= LooseVersion('1.1'), 'Please use TensorFlow version 1.1 or newer'\n",
        "print('TensorFlow Version: {}'.format(tf.__version__))\n",
        "\n",
        "# Check for a GPU\n",
        "if not tf.test.gpu_device_name():\n",
        "    warnings.warn('No GPU found. Please use a GPU to train your neural network.')\n",
        "else:\n",
        "    print('Default GPU Device: {}'.format(tf.test.gpu_device_name()))"
      ],
      "execution_count": null,
      "outputs": [
        {
          "output_type": "stream",
          "text": [
            "TensorFlow Version: 1.1.0\n",
            "Default GPU Device: /gpu:0\n"
          ],
          "name": "stdout"
        }
      ]
    },
    {
      "cell_type": "markdown",
      "metadata": {
        "id": "V0IKNI72Kpqw",
        "colab_type": "text"
      },
      "source": [
        "## Build the Neural Network\n",
        "We'll build the components necessary to build a Sequence-to-Sequence model by implementing the following functions below:\n",
        "- `model_inputs`\n",
        "- `process_decoder_input`\n",
        "- `encoding_layer`\n",
        "- `decoding_layer_train`\n",
        "- `decoding_layer_infer`\n",
        "- `decoding_layer`\n",
        "- `seq2seq_model`\n",
        "\n",
        "### Input\n",
        "Implement the `model_inputs()` function to create TF Placeholders for the Neural Network. It should create the following placeholders:\n",
        "\n",
        "- Input text placeholder named \"input\" using the TF Placeholder name parameter with rank 2.\n",
        "- Targets placeholder with rank 2.\n",
        "- Learning rate placeholder with rank 0.\n",
        "- Keep probability placeholder named \"keep_prob\" using the TF Placeholder name parameter with rank 0.\n",
        "- Target sequence length placeholder named \"target_sequence_length\" with rank 1\n",
        "- Max target sequence length tensor named \"max_target_len\" getting its value from applying tf.reduce_max on the target_sequence_length placeholder. Rank 0.\n",
        "- Source sequence length placeholder named \"source_sequence_length\" with rank 1\n",
        "\n",
        "Return the placeholders in the following the tuple (input, targets, learning rate, keep probability, target sequence length, max target sequence length, source sequence length)"
      ]
    },
    {
      "cell_type": "code",
      "metadata": {
        "id": "mJItjzveKpqx",
        "colab_type": "code",
        "colab": {},
        "outputId": "d5f87d94-9f0a-4735-add8-114abe702f45"
      },
      "source": [
        "def model_inputs():\n",
        "    inputs = tf.placeholder(tf.int32, [None, None], name='input')\n",
        "    targets = tf.placeholder(tf.int32, [None, None], name='targets')\n",
        "    learning_rate = tf.placeholder(tf.float32, name='learning_rate')\n",
        "    keep_prob = tf.placeholder(tf.float32, name='keep_prob')\n",
        "    target_sequence_length = tf.placeholder(tf.int32, [None], name='target_sequence_length')\n",
        "    max_target_len = tf.reduce_max(target_sequence_length,name='max_target_len')\n",
        "    source_sequence_length = tf.placeholder(tf.int32, [None], name='source_sequence_length')\n",
        "    \n",
        "    return inputs, targets, learning_rate, keep_prob, target_sequence_length, max_target_len, source_sequence_length\n",
        "tests.test_model_inputs(model_inputs)"
      ],
      "execution_count": null,
      "outputs": [
        {
          "output_type": "stream",
          "text": [
            "Tests Passed\n"
          ],
          "name": "stdout"
        }
      ]
    },
    {
      "cell_type": "markdown",
      "metadata": {
        "id": "ZHuCaaooKpq0",
        "colab_type": "text"
      },
      "source": [
        "### Process Decoder Input\n",
        "Implement `process_decoder_input` by removing the last word id from each batch in `target_data` and concat the GO ID to the begining of each batch."
      ]
    },
    {
      "cell_type": "code",
      "metadata": {
        "id": "_vY66GViKpq1",
        "colab_type": "code",
        "colab": {},
        "outputId": "fb2c6a70-5bf4-4a2b-e90a-1c5742d3080b"
      },
      "source": [
        "def process_decoder_input(target_data, target_vocab_to_int, batch_size):\n",
        "    ending = tf.strided_slice(target_data, [0, 0], [batch_size, -1], [1, 1])\n",
        "    dec_input = tf.concat([tf.fill([batch_size, 1], target_vocab_to_int['<GO>']), ending], 1)\n",
        "    \n",
        "    return dec_input\n",
        "tests.test_process_encoding_input(process_decoder_input)"
      ],
      "execution_count": null,
      "outputs": [
        {
          "output_type": "stream",
          "text": [
            "Tests Passed\n"
          ],
          "name": "stdout"
        }
      ]
    },
    {
      "cell_type": "markdown",
      "metadata": {
        "id": "_vZwgNu1Kpq4",
        "colab_type": "text"
      },
      "source": [
        "### Encoding\n",
        "Implement `encoding_layer()` to create a Encoder RNN layer:\n",
        " * Embed the encoder input using [`tf.contrib.layers.embed_sequence`](https://www.tensorflow.org/api_docs/python/tf/contrib/layers/embed_sequence)\n",
        " * Construct a [stacked](https://github.com/tensorflow/tensorflow/blob/6947f65a374ebf29e74bb71e36fd82760056d82c/tensorflow/docs_src/tutorials/recurrent.md#stacking-multiple-lstms) [`tf.contrib.rnn.LSTMCell`](https://www.tensorflow.org/api_docs/python/tf/contrib/rnn/LSTMCell) wrapped in a [`tf.contrib.rnn.DropoutWrapper`](https://www.tensorflow.org/api_docs/python/tf/contrib/rnn/DropoutWrapper)\n",
        " * Pass cell and embedded input to [`tf.nn.dynamic_rnn()`](https://www.tensorflow.org/api_docs/python/tf/nn/dynamic_rnn)"
      ]
    },
    {
      "cell_type": "code",
      "metadata": {
        "scrolled": false,
        "id": "bFScTST4Kpq5",
        "colab_type": "code",
        "colab": {},
        "outputId": "c730aa9b-06b4-4da1-b44f-9f55185b8b77"
      },
      "source": [
        "from imp import reload\n",
        "reload(tests)\n",
        "\n",
        "def encoding_layer(rnn_inputs, rnn_size, num_layers, keep_prob, \n",
        "                   source_sequence_length, source_vocab_size, \n",
        "                   encoding_embedding_size):\n",
        "    # TODO: Implement Function\n",
        "    embedded_encoder_input = tf.contrib.layers.embed_sequence(rnn_inputs, source_vocab_size, encoding_embedding_size)\n",
        "    \n",
        "    def make_cell(rnn_size):\n",
        "        lstm = tf.contrib.rnn.LSTMCell(rnn_size, initializer=tf.random_uniform_initializer(-0.1, 0.1, seed=2))\n",
        "        drop = tf.contrib.rnn.DropoutWrapper(lstm, output_keep_prob=keep_prob)\n",
        "        return drop\n",
        "    cell = tf.contrib.rnn.MultiRNNCell([make_cell(rnn_size) for _ in range(num_layers)])\n",
        "    rnn_out, rnn_state = tf.nn.dynamic_rnn(cell, embedded_encoder_input, sequence_length=source_sequence_length,\n",
        "                                           dtype=tf.float32)\n",
        "    \n",
        "    return rnn_out, rnn_state\n",
        "tests.test_encoding_layer(encoding_layer)"
      ],
      "execution_count": null,
      "outputs": [
        {
          "output_type": "stream",
          "text": [
            "Tests Passed\n"
          ],
          "name": "stdout"
        }
      ]
    },
    {
      "cell_type": "markdown",
      "metadata": {
        "id": "NRPK_0HhKpq8",
        "colab_type": "text"
      },
      "source": [
        "### Decoding - Training\n",
        "Create a training decoding layer:\n",
        "* Create a [`tf.contrib.seq2seq.TrainingHelper`](https://www.tensorflow.org/api_docs/python/tf/contrib/seq2seq/TrainingHelper) \n",
        "* Create a [`tf.contrib.seq2seq.BasicDecoder`](https://www.tensorflow.org/api_docs/python/tf/contrib/seq2seq/BasicDecoder)\n",
        "* Obtain the decoder outputs from [`tf.contrib.seq2seq.dynamic_decode`](https://www.tensorflow.org/api_docs/python/tf/contrib/seq2seq/dynamic_decode)"
      ]
    },
    {
      "cell_type": "code",
      "metadata": {
        "id": "jkRsoEqXKpq9",
        "colab_type": "code",
        "colab": {},
        "outputId": "6d449011-88e2-4767-e2b6-ba614f9a38aa"
      },
      "source": [
        "\n",
        "def decoding_layer_train(encoder_state, dec_cell, dec_embed_input, \n",
        "                         target_sequence_length, max_summary_length, \n",
        "                         output_layer, keep_prob):\n",
        "    training_helper = tf.contrib.seq2seq.TrainingHelper(dec_embed_input, target_sequence_length)\n",
        "    training_decoder = tf.contrib.seq2seq.BasicDecoder(dec_cell, training_helper, encoder_state, output_layer)\n",
        "    output, _ = tf.contrib.seq2seq.dynamic_decode(training_decoder, maximum_iterations = max_summary_length)\n",
        "    \n",
        "    return output\n",
        "tests.test_decoding_layer_train(decoding_layer_train)"
      ],
      "execution_count": null,
      "outputs": [
        {
          "output_type": "stream",
          "text": [
            "Tests Passed\n"
          ],
          "name": "stdout"
        }
      ]
    },
    {
      "cell_type": "markdown",
      "metadata": {
        "id": "sk0YmBvMKprB",
        "colab_type": "text"
      },
      "source": [
        "### Decoding - Inference\n",
        "Create inference decoder:\n",
        "* Create a [`tf.contrib.seq2seq.GreedyEmbeddingHelper`](https://www.tensorflow.org/api_docs/python/tf/contrib/seq2seq/GreedyEmbeddingHelper)\n",
        "* Create a [`tf.contrib.seq2seq.BasicDecoder`](https://www.tensorflow.org/api_docs/python/tf/contrib/seq2seq/BasicDecoder)\n",
        "* Obtain the decoder outputs from [`tf.contrib.seq2seq.dynamic_decode`](https://www.tensorflow.org/api_docs/python/tf/contrib/seq2seq/dynamic_decode)"
      ]
    },
    {
      "cell_type": "code",
      "metadata": {
        "scrolled": true,
        "id": "iVBjSsK_KprB",
        "colab_type": "code",
        "colab": {},
        "outputId": "64157f5c-6b78-4b2b-e5f1-909b234e9377"
      },
      "source": [
        "def decoding_layer_infer(encoder_state, dec_cell, dec_embeddings, start_of_sequence_id,\n",
        "                         end_of_sequence_id, max_target_sequence_length,\n",
        "                         vocab_size, output_layer, batch_size, keep_prob):\n",
        "    start_tokens = tf.tile(tf.constant([start_of_sequence_id], dtype=tf.int32), [batch_size], name='start_tokens')\n",
        "    \n",
        "    infer_helper = tf.contrib.seq2seq.GreedyEmbeddingHelper(dec_embeddings, start_tokens, end_of_sequence_id)\n",
        "    infer_decoder = tf.contrib.seq2seq.BasicDecoder(dec_cell, infer_helper, encoder_state, output_layer)\n",
        "    output, _ = tf.contrib.seq2seq.dynamic_decode(infer_decoder, maximum_iterations = max_target_sequence_length)\n",
        "    \n",
        "    return output\n",
        "tests.test_decoding_layer_infer(decoding_layer_infer)"
      ],
      "execution_count": null,
      "outputs": [
        {
          "output_type": "stream",
          "text": [
            "Tests Passed\n"
          ],
          "name": "stdout"
        }
      ]
    },
    {
      "cell_type": "markdown",
      "metadata": {
        "id": "nszXXYZqKprF",
        "colab_type": "text"
      },
      "source": [
        "### Build the Decoding Layer\n",
        "Implement `decoding_layer()` to create a Decoder RNN layer.\n",
        "\n",
        "* Embed the target sequences\n",
        "* Construct the decoder LSTM cell (just like you constructed the encoder cell above)\n",
        "* Create an output layer to map the outputs of the decoder to the elements of our vocabulary\n",
        "* Use the your `decoding_layer_train(encoder_state, dec_cell, dec_embed_input, target_sequence_length, max_target_sequence_length, output_layer, keep_prob)` function to get the training logits.\n",
        "* Use your `decoding_layer_infer(encoder_state, dec_cell, dec_embeddings, start_of_sequence_id, end_of_sequence_id, max_target_sequence_length, vocab_size, output_layer, batch_size, keep_prob)` function to get the inference logits.\n",
        "\n",
        "Note: You'll need to use [tf.variable_scope](https://www.tensorflow.org/api_docs/python/tf/variable_scope) to share variables between training and inference."
      ]
    },
    {
      "cell_type": "code",
      "metadata": {
        "id": "syiH_0NgKprF",
        "colab_type": "code",
        "colab": {},
        "outputId": "a5b41037-6e02-47df-b581-1ac43e365a48"
      },
      "source": [
        "def decoding_layer(dec_input, encoder_state,\n",
        "                   target_sequence_length, max_target_sequence_length,\n",
        "                   rnn_size,\n",
        "                   num_layers, target_vocab_to_int, target_vocab_size,\n",
        "                   batch_size, keep_prob, decoding_embedding_size):\n",
        "    dec_embeddings = tf.Variable(tf.random_uniform([target_vocab_size, decoding_embedding_size]))\n",
        "    dec_embed_input = tf.nn.embedding_lookup(dec_embeddings, dec_input)\n",
        "    \n",
        "    def make_cell(rnn_size):\n",
        "        lstm = tf.contrib.rnn.LSTMCell(rnn_size, initializer=tf.random_uniform_initializer(-0.1, 0.1, seed=2))\n",
        "        drop = tf.contrib.rnn.DropoutWrapper(lstm, output_keep_prob=keep_prob)\n",
        "        return drop\n",
        "    cell = tf.contrib.rnn.MultiRNNCell([make_cell(rnn_size) for _ in range(num_layers)])\n",
        "    \n",
        "    output_layer = Dense(target_vocab_size, kernel_initializer = tf.truncated_normal_initializer(mean = 0.0, stddev=0.1))\n",
        "    \n",
        "    with tf.variable_scope(\"decode\") as decoding_scope:\n",
        "        train_dec_out = decoding_layer_train(encoder_state, cell, dec_embed_input, target_sequence_length, \n",
        "                                             max_target_sequence_length, output_layer, keep_prob)\n",
        "    \n",
        "        decoding_scope.reuse_variables()\n",
        "        infer_dec_out = decoding_layer_infer(encoder_state, cell, dec_embeddings, target_vocab_to_int['<GO>'], \n",
        "                                             target_vocab_to_int['<EOS>'], max_target_sequence_length, \n",
        "                                             target_vocab_size, output_layer, batch_size, keep_prob)\n",
        "    \n",
        "    return train_dec_out, infer_dec_out\n",
        "tests.test_decoding_layer(decoding_layer)"
      ],
      "execution_count": null,
      "outputs": [
        {
          "output_type": "stream",
          "text": [
            "Tests Passed\n"
          ],
          "name": "stdout"
        }
      ]
    },
    {
      "cell_type": "markdown",
      "metadata": {
        "id": "0U6rTY9MKprJ",
        "colab_type": "text"
      },
      "source": [
        "### Build the Neural Network\n",
        "Apply the functions you implemented above to:\n",
        "\n",
        "- Apply embedding to the input data for the encoder.\n",
        "- Encode the input using your `encoding_layer(rnn_inputs, rnn_size, num_layers, keep_prob,  source_sequence_length, source_vocab_size, encoding_embedding_size)`.\n",
        "- Process target data using your `process_decoder_input(target_data, target_vocab_to_int, batch_size)` function.\n",
        "- Apply embedding to the target data for the decoder.\n",
        "- Decode the encoded input using your `decoding_layer(dec_input, enc_state, target_sequence_length, max_target_sentence_length, rnn_size, num_layers, target_vocab_to_int, target_vocab_size, batch_size, keep_prob, dec_embedding_size)` function."
      ]
    },
    {
      "cell_type": "code",
      "metadata": {
        "id": "Y2ckwOtVKprJ",
        "colab_type": "code",
        "colab": {},
        "outputId": "741f2c0a-2312-47a7-f0a4-3a53ae9d9f1f"
      },
      "source": [
        "def seq2seq_model(input_data, target_data, keep_prob, batch_size,\n",
        "                  source_sequence_length, target_sequence_length,\n",
        "                  max_target_sentence_length,\n",
        "                  source_vocab_size, target_vocab_size,\n",
        "                  enc_embedding_size, dec_embedding_size,\n",
        "                  rnn_size, num_layers, target_vocab_to_int):\n",
        "    enc_output, enc_state = encoding_layer(input_data, rnn_size, num_layers, keep_prob,  \n",
        "                                   source_sequence_length, source_vocab_size, enc_embedding_size)\n",
        "    \n",
        "    dec_input = process_decoder_input(target_data, target_vocab_to_int, batch_size)\n",
        "    \n",
        "    training_logits, inference_logits = decoding_layer(dec_input, enc_state, target_sequence_length, \n",
        "                                       max_target_sentence_length, rnn_size, num_layers, target_vocab_to_int, \n",
        "                                       target_vocab_size, batch_size, keep_prob, dec_embedding_size)\n",
        "    \n",
        "    return training_logits, inference_logits\n",
        "tests.test_seq2seq_model(seq2seq_model)"
      ],
      "execution_count": null,
      "outputs": [
        {
          "output_type": "stream",
          "text": [
            "Tests Passed\n"
          ],
          "name": "stdout"
        }
      ]
    },
    {
      "cell_type": "markdown",
      "metadata": {
        "id": "zDm8eGsgKprN",
        "colab_type": "text"
      },
      "source": [
        "## Neural Network Training\n",
        "### Hyperparameters\n",
        "Tune the following parameters:\n",
        "\n",
        "- Set `epochs` to the number of epochs.\n",
        "- Set `batch_size` to the batch size.\n",
        "- Set `rnn_size` to the size of the RNNs.\n",
        "- Set `num_layers` to the number of layers.\n",
        "- Set `encoding_embedding_size` to the size of the embedding for the encoder.\n",
        "- Set `decoding_embedding_size` to the size of the embedding for the decoder.\n",
        "- Set `learning_rate` to the learning rate.\n",
        "- Set `keep_probability` to the Dropout keep probability\n",
        "- Set `display_step` to state how many steps between each debug output statement"
      ]
    },
    {
      "cell_type": "code",
      "metadata": {
        "id": "HztfyHWaKprO",
        "colab_type": "code",
        "colab": {}
      },
      "source": [
        "# Number of Epochs\n",
        "epochs = 10\n",
        "# Batch Size\n",
        "batch_size = 512\n",
        "# RNN Size\n",
        "rnn_size = 256\n",
        "# Number of Layers\n",
        "num_layers = 2\n",
        "# Embedding Size\n",
        "encoding_embedding_size = 512\n",
        "decoding_embedding_size = 512\n",
        "# Learning Rate\n",
        "learning_rate = 0.005\n",
        "# Dropout Keep Probability\n",
        "keep_probability = 1.0\n",
        "display_step = 20"
      ],
      "execution_count": null,
      "outputs": []
    },
    {
      "cell_type": "markdown",
      "metadata": {
        "id": "Y9AUju7tKprR",
        "colab_type": "text"
      },
      "source": [
        "### Build the Graph\n",
        "Build the graph using the neural network you implemented."
      ]
    },
    {
      "cell_type": "code",
      "metadata": {
        "id": "lcobgwvHKprT",
        "colab_type": "code",
        "colab": {}
      },
      "source": [
        "\n",
        "save_path = 'checkpoints/dev'\n",
        "(source_int_text, target_int_text), (source_vocab_to_int, target_vocab_to_int), _ = helper.load_preprocess()\n",
        "max_target_sentence_length = max([len(sentence) for sentence in source_int_text])\n",
        "\n",
        "train_graph = tf.Graph()\n",
        "with train_graph.as_default():\n",
        "    input_data, targets, lr, keep_prob, target_sequence_length, max_target_sequence_length, source_sequence_length = model_inputs()\n",
        "\n",
        "    #sequence_length = tf.placeholder_with_default(max_target_sentence_length, None, name='sequence_length')\n",
        "    input_shape = tf.shape(input_data)\n",
        "\n",
        "    train_logits, inference_logits = seq2seq_model(tf.reverse(input_data, [-1]),\n",
        "                                                   targets,\n",
        "                                                   keep_prob,\n",
        "                                                   batch_size,\n",
        "                                                   source_sequence_length,\n",
        "                                                   target_sequence_length,\n",
        "                                                   max_target_sequence_length,\n",
        "                                                   len(source_vocab_to_int),\n",
        "                                                   len(target_vocab_to_int),\n",
        "                                                   encoding_embedding_size,\n",
        "                                                   decoding_embedding_size,\n",
        "                                                   rnn_size,\n",
        "                                                   num_layers,\n",
        "                                                   target_vocab_to_int)\n",
        "\n",
        "\n",
        "    training_logits = tf.identity(train_logits.rnn_output, name='logits')\n",
        "    inference_logits = tf.identity(inference_logits.sample_id, name='predictions')\n",
        "\n",
        "    masks = tf.sequence_mask(target_sequence_length, max_target_sequence_length, dtype=tf.float32, name='masks')\n",
        "\n",
        "    with tf.name_scope(\"optimization\"):\n",
        "        # Loss function\n",
        "        cost = tf.contrib.seq2seq.sequence_loss(\n",
        "            training_logits,\n",
        "            targets,\n",
        "            masks)\n",
        "\n",
        "        # Optimizer\n",
        "        optimizer = tf.train.AdamOptimizer(lr)\n",
        "\n",
        "        # Gradient Clipping\n",
        "        gradients = optimizer.compute_gradients(cost)\n",
        "        capped_gradients = [(tf.clip_by_value(grad, -1., 1.), var) for grad, var in gradients if grad is not None]\n",
        "        train_op = optimizer.apply_gradients(capped_gradients)\n"
      ],
      "execution_count": null,
      "outputs": []
    },
    {
      "cell_type": "markdown",
      "metadata": {
        "id": "jlG2AIiYKprW",
        "colab_type": "text"
      },
      "source": [
        "Batch and pad the source and target sequences"
      ]
    },
    {
      "cell_type": "code",
      "metadata": {
        "id": "nfF6zCleKprX",
        "colab_type": "code",
        "colab": {}
      },
      "source": [
        "\n",
        "def pad_sentence_batch(sentence_batch, pad_int):\n",
        "    \"\"\"Pad sentences with <PAD> so that each sentence of a batch has the same length\"\"\"\n",
        "    max_sentence = max([len(sentence) for sentence in sentence_batch])\n",
        "    return [sentence + [pad_int] * (max_sentence - len(sentence)) for sentence in sentence_batch]\n",
        "\n",
        "\n",
        "def get_batches(sources, targets, batch_size, source_pad_int, target_pad_int):\n",
        "    \"\"\"Batch targets, sources, and the lengths of their sentences together\"\"\"\n",
        "    for batch_i in range(0, len(sources)//batch_size):\n",
        "        start_i = batch_i * batch_size\n",
        "\n",
        "        # Slice the right amount for the batch\n",
        "        sources_batch = sources[start_i:start_i + batch_size]\n",
        "        targets_batch = targets[start_i:start_i + batch_size]\n",
        "\n",
        "        # Pad\n",
        "        pad_sources_batch = np.array(pad_sentence_batch(sources_batch, source_pad_int))\n",
        "        pad_targets_batch = np.array(pad_sentence_batch(targets_batch, target_pad_int))\n",
        "\n",
        "        # Need the lengths for the _lengths parameters\n",
        "        pad_targets_lengths = []\n",
        "        for target in pad_targets_batch:\n",
        "            pad_targets_lengths.append(len(target))\n",
        "\n",
        "        pad_source_lengths = []\n",
        "        for source in pad_sources_batch:\n",
        "            pad_source_lengths.append(len(source))\n",
        "\n",
        "        yield pad_sources_batch, pad_targets_batch, pad_source_lengths, pad_targets_lengths\n"
      ],
      "execution_count": null,
      "outputs": []
    },
    {
      "cell_type": "markdown",
      "metadata": {
        "id": "RHeDpxeLKpra",
        "colab_type": "text"
      },
      "source": [
        "### Train\n",
        "Train the neural network on the preprocessed data. If you have a hard time getting a good loss, check the forms to see if anyone is having the same problem."
      ]
    },
    {
      "cell_type": "code",
      "metadata": {
        "scrolled": true,
        "id": "3ykI5A2qKprb",
        "colab_type": "code",
        "colab": {},
        "outputId": "c9972933-e4d2-430e-dc10-890076b2ec31"
      },
      "source": [
        "\n",
        "def get_accuracy(target, logits):\n",
        "    \"\"\"\n",
        "    Calculate accuracy\n",
        "    \"\"\"\n",
        "    max_seq = max(target.shape[1], logits.shape[1])\n",
        "    if max_seq - target.shape[1]:\n",
        "        target = np.pad(\n",
        "            target,\n",
        "            [(0,0),(0,max_seq - target.shape[1])],\n",
        "            'constant')\n",
        "    if max_seq - logits.shape[1]:\n",
        "        logits = np.pad(\n",
        "            logits,\n",
        "            [(0,0),(0,max_seq - logits.shape[1])],\n",
        "            'constant')\n",
        "\n",
        "    return np.mean(np.equal(target, logits))\n",
        "\n",
        "# Split data to training and validation sets\n",
        "train_source = source_int_text[batch_size:]\n",
        "train_target = target_int_text[batch_size:]\n",
        "valid_source = source_int_text[:batch_size]\n",
        "valid_target = target_int_text[:batch_size]\n",
        "(valid_sources_batch, valid_targets_batch, valid_sources_lengths, valid_targets_lengths ) = next(get_batches(valid_source,\n",
        "                                                                                                             valid_target,\n",
        "                                                                                                             batch_size,\n",
        "                                                                                                             source_vocab_to_int['<PAD>'],\n",
        "                                                                                                             target_vocab_to_int['<PAD>']))                                                                                                  \n",
        "with tf.Session(graph=train_graph) as sess:\n",
        "    sess.run(tf.global_variables_initializer())\n",
        "\n",
        "    for epoch_i in range(epochs):\n",
        "        for batch_i, (source_batch, target_batch, sources_lengths, targets_lengths) in enumerate(\n",
        "                get_batches(train_source, train_target, batch_size,\n",
        "                            source_vocab_to_int['<PAD>'],\n",
        "                            target_vocab_to_int['<PAD>'])):\n",
        "\n",
        "            _, loss = sess.run(\n",
        "                [train_op, cost],\n",
        "                {input_data: source_batch,\n",
        "                 targets: target_batch,\n",
        "                 lr: learning_rate,\n",
        "                 target_sequence_length: targets_lengths,\n",
        "                 source_sequence_length: sources_lengths,\n",
        "                 keep_prob: keep_probability})\n",
        "\n",
        "\n",
        "            if batch_i % display_step == 0 and batch_i > 0:\n",
        "\n",
        "\n",
        "                batch_train_logits = sess.run(\n",
        "                    inference_logits,\n",
        "                    {input_data: source_batch,\n",
        "                     source_sequence_length: sources_lengths,\n",
        "                     target_sequence_length: targets_lengths,\n",
        "                     keep_prob: 1.0})\n",
        "\n",
        "\n",
        "                batch_valid_logits = sess.run(\n",
        "                    inference_logits,\n",
        "                    {input_data: valid_sources_batch,\n",
        "                     source_sequence_length: valid_sources_lengths,\n",
        "                     target_sequence_length: valid_targets_lengths,\n",
        "                     keep_prob: 1.0})\n",
        "\n",
        "                train_acc = get_accuracy(target_batch, batch_train_logits)\n",
        "\n",
        "                valid_acc = get_accuracy(valid_targets_batch, batch_valid_logits)\n",
        "\n",
        "                print('Epoch {:>3} Batch {:>4}/{} - Train Accuracy: {:>6.4f}, Validation Accuracy: {:>6.4f}, Loss: {:>6.4f}'\n",
        "                      .format(epoch_i, batch_i, len(source_int_text) // batch_size, train_acc, valid_acc, loss))\n",
        "\n",
        "    # Save Model\n",
        "    saver = tf.train.Saver()\n",
        "    saver.save(sess, save_path)\n",
        "    print('Model Trained and Saved')"
      ],
      "execution_count": null,
      "outputs": [
        {
          "output_type": "stream",
          "text": [
            "Epoch   0 Batch   20/269 - Train Accuracy: 0.3738, Validation Accuracy: 0.4286, Loss: 2.7031\n",
            "Epoch   0 Batch   40/269 - Train Accuracy: 0.4728, Validation Accuracy: 0.5096, Loss: 2.1652\n",
            "Epoch   0 Batch   60/269 - Train Accuracy: 0.5320, Validation Accuracy: 0.5427, Loss: 1.4556\n",
            "Epoch   0 Batch   80/269 - Train Accuracy: 0.5568, Validation Accuracy: 0.5682, Loss: 0.9969\n",
            "Epoch   0 Batch  100/269 - Train Accuracy: 0.6004, Validation Accuracy: 0.6036, Loss: 0.7865\n",
            "Epoch   0 Batch  120/269 - Train Accuracy: 0.5918, Validation Accuracy: 0.6227, Loss: 0.6987\n",
            "Epoch   0 Batch  140/269 - Train Accuracy: 0.6568, Validation Accuracy: 0.6635, Loss: 0.5937\n",
            "Epoch   0 Batch  160/269 - Train Accuracy: 0.6809, Validation Accuracy: 0.6785, Loss: 0.5030\n",
            "Epoch   0 Batch  180/269 - Train Accuracy: 0.7339, Validation Accuracy: 0.7214, Loss: 0.4269\n",
            "Epoch   0 Batch  200/269 - Train Accuracy: 0.7530, Validation Accuracy: 0.7648, Loss: 0.3809\n",
            "Epoch   0 Batch  220/269 - Train Accuracy: 0.8223, Validation Accuracy: 0.8133, Loss: 0.2854\n",
            "Epoch   0 Batch  240/269 - Train Accuracy: 0.8583, Validation Accuracy: 0.8423, Loss: 0.2222\n",
            "Epoch   0 Batch  260/269 - Train Accuracy: 0.8624, Validation Accuracy: 0.8685, Loss: 0.2040\n",
            "Epoch   1 Batch   20/269 - Train Accuracy: 0.8994, Validation Accuracy: 0.8871, Loss: 0.1458\n",
            "Epoch   1 Batch   40/269 - Train Accuracy: 0.8971, Validation Accuracy: 0.9003, Loss: 0.1299\n",
            "Epoch   1 Batch   60/269 - Train Accuracy: 0.9170, Validation Accuracy: 0.9096, Loss: 0.0970\n",
            "Epoch   1 Batch   80/269 - Train Accuracy: 0.9238, Validation Accuracy: 0.9188, Loss: 0.0826\n",
            "Epoch   1 Batch  100/269 - Train Accuracy: 0.9466, Validation Accuracy: 0.9350, Loss: 0.0701\n",
            "Epoch   1 Batch  120/269 - Train Accuracy: 0.9373, Validation Accuracy: 0.9389, Loss: 0.0647\n",
            "Epoch   1 Batch  140/269 - Train Accuracy: 0.9335, Validation Accuracy: 0.9419, Loss: 0.0629\n",
            "Epoch   1 Batch  160/269 - Train Accuracy: 0.9517, Validation Accuracy: 0.9456, Loss: 0.0505\n",
            "Epoch   1 Batch  180/269 - Train Accuracy: 0.9526, Validation Accuracy: 0.9532, Loss: 0.0439\n",
            "Epoch   1 Batch  200/269 - Train Accuracy: 0.9657, Validation Accuracy: 0.9494, Loss: 0.0410\n",
            "Epoch   1 Batch  220/269 - Train Accuracy: 0.9537, Validation Accuracy: 0.9534, Loss: 0.0403\n",
            "Epoch   1 Batch  240/269 - Train Accuracy: 0.9575, Validation Accuracy: 0.9486, Loss: 0.0334\n",
            "Epoch   1 Batch  260/269 - Train Accuracy: 0.9559, Validation Accuracy: 0.9635, Loss: 0.0372\n",
            "Epoch   2 Batch   20/269 - Train Accuracy: 0.9640, Validation Accuracy: 0.9668, Loss: 0.0308\n",
            "Epoch   2 Batch   40/269 - Train Accuracy: 0.9702, Validation Accuracy: 0.9680, Loss: 0.0322\n",
            "Epoch   2 Batch   60/269 - Train Accuracy: 0.9578, Validation Accuracy: 0.9634, Loss: 0.0284\n",
            "Epoch   2 Batch   80/269 - Train Accuracy: 0.9697, Validation Accuracy: 0.9649, Loss: 0.0282\n",
            "Epoch   2 Batch  100/269 - Train Accuracy: 0.9722, Validation Accuracy: 0.9679, Loss: 0.0271\n",
            "Epoch   2 Batch  120/269 - Train Accuracy: 0.9688, Validation Accuracy: 0.9658, Loss: 0.0257\n",
            "Epoch   2 Batch  140/269 - Train Accuracy: 0.9653, Validation Accuracy: 0.9681, Loss: 0.0279\n",
            "Epoch   2 Batch  160/269 - Train Accuracy: 0.9794, Validation Accuracy: 0.9728, Loss: 0.0216\n",
            "Epoch   2 Batch  180/269 - Train Accuracy: 0.9790, Validation Accuracy: 0.9686, Loss: 0.0203\n",
            "Epoch   2 Batch  200/269 - Train Accuracy: 0.9816, Validation Accuracy: 0.9686, Loss: 0.0197\n",
            "Epoch   2 Batch  220/269 - Train Accuracy: 0.9705, Validation Accuracy: 0.9641, Loss: 0.0199\n",
            "Epoch   2 Batch  240/269 - Train Accuracy: 0.9706, Validation Accuracy: 0.9664, Loss: 0.0192\n",
            "Epoch   2 Batch  260/269 - Train Accuracy: 0.9794, Validation Accuracy: 0.9703, Loss: 0.0194\n",
            "Epoch   3 Batch   20/269 - Train Accuracy: 0.9714, Validation Accuracy: 0.9693, Loss: 0.0193\n",
            "Epoch   3 Batch   40/269 - Train Accuracy: 0.9729, Validation Accuracy: 0.9673, Loss: 0.0227\n",
            "Epoch   3 Batch   60/269 - Train Accuracy: 0.9769, Validation Accuracy: 0.9748, Loss: 0.0184\n",
            "Epoch   3 Batch   80/269 - Train Accuracy: 0.9772, Validation Accuracy: 0.9744, Loss: 0.0170\n",
            "Epoch   3 Batch  100/269 - Train Accuracy: 0.9782, Validation Accuracy: 0.9711, Loss: 0.0174\n",
            "Epoch   3 Batch  120/269 - Train Accuracy: 0.9751, Validation Accuracy: 0.9731, Loss: 0.0157\n",
            "Epoch   3 Batch  140/269 - Train Accuracy: 0.9762, Validation Accuracy: 0.9687, Loss: 0.0184\n",
            "Epoch   3 Batch  160/269 - Train Accuracy: 0.9848, Validation Accuracy: 0.9693, Loss: 0.0143\n",
            "Epoch   3 Batch  180/269 - Train Accuracy: 0.9902, Validation Accuracy: 0.9753, Loss: 0.0135\n",
            "Epoch   3 Batch  200/269 - Train Accuracy: 0.9871, Validation Accuracy: 0.9681, Loss: 0.0135\n",
            "Epoch   3 Batch  220/269 - Train Accuracy: 0.9773, Validation Accuracy: 0.9718, Loss: 0.0145\n",
            "Epoch   3 Batch  240/269 - Train Accuracy: 0.9828, Validation Accuracy: 0.9698, Loss: 0.0128\n",
            "Epoch   3 Batch  260/269 - Train Accuracy: 0.9851, Validation Accuracy: 0.9743, Loss: 0.0131\n",
            "Epoch   4 Batch   20/269 - Train Accuracy: 0.9839, Validation Accuracy: 0.9727, Loss: 0.0141\n",
            "Epoch   4 Batch   40/269 - Train Accuracy: 0.9776, Validation Accuracy: 0.9764, Loss: 0.0150\n",
            "Epoch   4 Batch   60/269 - Train Accuracy: 0.9785, Validation Accuracy: 0.9752, Loss: 0.0167\n",
            "Epoch   4 Batch   80/269 - Train Accuracy: 0.9795, Validation Accuracy: 0.9758, Loss: 0.0136\n",
            "Epoch   4 Batch  100/269 - Train Accuracy: 0.9900, Validation Accuracy: 0.9721, Loss: 0.0140\n",
            "Epoch   4 Batch  120/269 - Train Accuracy: 0.9818, Validation Accuracy: 0.9763, Loss: 0.0144\n",
            "Epoch   4 Batch  140/269 - Train Accuracy: 0.9831, Validation Accuracy: 0.9674, Loss: 0.0143\n",
            "Epoch   4 Batch  160/269 - Train Accuracy: 0.9856, Validation Accuracy: 0.9696, Loss: 0.0121\n",
            "Epoch   4 Batch  180/269 - Train Accuracy: 0.9872, Validation Accuracy: 0.9717, Loss: 0.0118\n",
            "Epoch   4 Batch  200/269 - Train Accuracy: 0.9883, Validation Accuracy: 0.9723, Loss: 0.0090\n",
            "Epoch   4 Batch  220/269 - Train Accuracy: 0.9837, Validation Accuracy: 0.9682, Loss: 0.0124\n",
            "Epoch   4 Batch  240/269 - Train Accuracy: 0.9823, Validation Accuracy: 0.9724, Loss: 0.0118\n",
            "Epoch   4 Batch  260/269 - Train Accuracy: 0.9875, Validation Accuracy: 0.9736, Loss: 0.0111\n",
            "Epoch   5 Batch   20/269 - Train Accuracy: 0.9833, Validation Accuracy: 0.9796, Loss: 0.0113\n",
            "Epoch   5 Batch   40/269 - Train Accuracy: 0.9843, Validation Accuracy: 0.9692, Loss: 0.0130\n",
            "Epoch   5 Batch   60/269 - Train Accuracy: 0.9789, Validation Accuracy: 0.9783, Loss: 0.0127\n",
            "Epoch   5 Batch   80/269 - Train Accuracy: 0.9847, Validation Accuracy: 0.9787, Loss: 0.0106\n",
            "Epoch   5 Batch  100/269 - Train Accuracy: 0.9917, Validation Accuracy: 0.9770, Loss: 0.0100\n",
            "Epoch   5 Batch  120/269 - Train Accuracy: 0.9862, Validation Accuracy: 0.9756, Loss: 0.0111\n",
            "Epoch   5 Batch  140/269 - Train Accuracy: 0.9867, Validation Accuracy: 0.9655, Loss: 0.0123\n",
            "Epoch   5 Batch  160/269 - Train Accuracy: 0.9883, Validation Accuracy: 0.9694, Loss: 0.0108\n",
            "Epoch   5 Batch  180/269 - Train Accuracy: 0.9860, Validation Accuracy: 0.9719, Loss: 0.0105\n",
            "Epoch   5 Batch  200/269 - Train Accuracy: 0.9918, Validation Accuracy: 0.9757, Loss: 0.0071\n",
            "Epoch   5 Batch  220/269 - Train Accuracy: 0.9885, Validation Accuracy: 0.9718, Loss: 0.0096\n",
            "Epoch   5 Batch  240/269 - Train Accuracy: 0.9903, Validation Accuracy: 0.9768, Loss: 0.0090\n",
            "Epoch   5 Batch  260/269 - Train Accuracy: 0.9878, Validation Accuracy: 0.9741, Loss: 0.0089\n",
            "Epoch   6 Batch   20/269 - Train Accuracy: 0.9843, Validation Accuracy: 0.9781, Loss: 0.0105\n",
            "Epoch   6 Batch   40/269 - Train Accuracy: 0.9845, Validation Accuracy: 0.9733, Loss: 0.0121\n",
            "Epoch   6 Batch   60/269 - Train Accuracy: 0.9786, Validation Accuracy: 0.9777, Loss: 0.0118\n",
            "Epoch   6 Batch   80/269 - Train Accuracy: 0.9901, Validation Accuracy: 0.9754, Loss: 0.0089\n",
            "Epoch   6 Batch  100/269 - Train Accuracy: 0.9901, Validation Accuracy: 0.9743, Loss: 0.0089\n",
            "Epoch   6 Batch  120/269 - Train Accuracy: 0.9866, Validation Accuracy: 0.9794, Loss: 0.0106\n",
            "Epoch   6 Batch  140/269 - Train Accuracy: 0.9914, Validation Accuracy: 0.9730, Loss: 0.0124\n",
            "Epoch   6 Batch  160/269 - Train Accuracy: 0.9863, Validation Accuracy: 0.9773, Loss: 0.0091\n",
            "Epoch   6 Batch  180/269 - Train Accuracy: 0.9850, Validation Accuracy: 0.9674, Loss: 0.0089\n",
            "Epoch   6 Batch  200/269 - Train Accuracy: 0.9931, Validation Accuracy: 0.9733, Loss: 0.0066\n",
            "Epoch   6 Batch  220/269 - Train Accuracy: 0.9871, Validation Accuracy: 0.9668, Loss: 0.0084\n"
          ],
          "name": "stdout"
        },
        {
          "output_type": "stream",
          "text": [
            "Epoch   6 Batch  240/269 - Train Accuracy: 0.9868, Validation Accuracy: 0.9727, Loss: 0.0098\n",
            "Epoch   6 Batch  260/269 - Train Accuracy: 0.9948, Validation Accuracy: 0.9780, Loss: 0.0077\n",
            "Epoch   7 Batch   20/269 - Train Accuracy: 0.9854, Validation Accuracy: 0.9760, Loss: 0.0099\n",
            "Epoch   7 Batch   40/269 - Train Accuracy: 0.9868, Validation Accuracy: 0.9769, Loss: 0.0092\n",
            "Epoch   7 Batch   60/269 - Train Accuracy: 0.9810, Validation Accuracy: 0.9791, Loss: 0.0107\n",
            "Epoch   7 Batch   80/269 - Train Accuracy: 0.9898, Validation Accuracy: 0.9770, Loss: 0.0085\n",
            "Epoch   7 Batch  100/269 - Train Accuracy: 0.9906, Validation Accuracy: 0.9738, Loss: 0.0100\n",
            "Epoch   7 Batch  120/269 - Train Accuracy: 0.9885, Validation Accuracy: 0.9761, Loss: 0.0103\n",
            "Epoch   7 Batch  140/269 - Train Accuracy: 0.9870, Validation Accuracy: 0.9755, Loss: 0.0119\n",
            "Epoch   7 Batch  160/269 - Train Accuracy: 0.9920, Validation Accuracy: 0.9657, Loss: 0.0079\n",
            "Epoch   7 Batch  180/269 - Train Accuracy: 0.9921, Validation Accuracy: 0.9771, Loss: 0.0082\n",
            "Epoch   7 Batch  200/269 - Train Accuracy: 0.9946, Validation Accuracy: 0.9792, Loss: 0.0070\n",
            "Epoch   7 Batch  220/269 - Train Accuracy: 0.9909, Validation Accuracy: 0.9703, Loss: 0.0079\n",
            "Epoch   7 Batch  240/269 - Train Accuracy: 0.9927, Validation Accuracy: 0.9755, Loss: 0.0080\n",
            "Epoch   7 Batch  260/269 - Train Accuracy: 0.9913, Validation Accuracy: 0.9707, Loss: 0.0088\n",
            "Epoch   8 Batch   20/269 - Train Accuracy: 0.9817, Validation Accuracy: 0.9644, Loss: 0.0095\n",
            "Epoch   8 Batch   40/269 - Train Accuracy: 0.9920, Validation Accuracy: 0.9725, Loss: 0.0086\n",
            "Epoch   8 Batch   60/269 - Train Accuracy: 0.9863, Validation Accuracy: 0.9778, Loss: 0.0099\n",
            "Epoch   8 Batch   80/269 - Train Accuracy: 0.9942, Validation Accuracy: 0.9733, Loss: 0.0070\n",
            "Epoch   8 Batch  100/269 - Train Accuracy: 0.9928, Validation Accuracy: 0.9747, Loss: 0.0084\n",
            "Epoch   8 Batch  120/269 - Train Accuracy: 0.9912, Validation Accuracy: 0.9798, Loss: 0.0097\n",
            "Epoch   8 Batch  140/269 - Train Accuracy: 0.9908, Validation Accuracy: 0.9770, Loss: 0.0097\n",
            "Epoch   8 Batch  160/269 - Train Accuracy: 0.9925, Validation Accuracy: 0.9739, Loss: 0.0071\n",
            "Epoch   8 Batch  180/269 - Train Accuracy: 0.9927, Validation Accuracy: 0.9742, Loss: 0.0068\n",
            "Epoch   8 Batch  200/269 - Train Accuracy: 0.9946, Validation Accuracy: 0.9723, Loss: 0.0056\n",
            "Epoch   8 Batch  220/269 - Train Accuracy: 0.9850, Validation Accuracy: 0.9709, Loss: 0.0070\n",
            "Epoch   8 Batch  240/269 - Train Accuracy: 0.9952, Validation Accuracy: 0.9744, Loss: 0.0064\n",
            "Epoch   8 Batch  260/269 - Train Accuracy: 0.9919, Validation Accuracy: 0.9782, Loss: 0.0071\n",
            "Epoch   9 Batch   20/269 - Train Accuracy: 0.9940, Validation Accuracy: 0.9755, Loss: 0.0076\n",
            "Epoch   9 Batch   40/269 - Train Accuracy: 0.9917, Validation Accuracy: 0.9644, Loss: 0.0085\n",
            "Epoch   9 Batch   60/269 - Train Accuracy: 0.9879, Validation Accuracy: 0.9787, Loss: 0.0105\n",
            "Epoch   9 Batch   80/269 - Train Accuracy: 0.9911, Validation Accuracy: 0.9718, Loss: 0.0067\n",
            "Epoch   9 Batch  100/269 - Train Accuracy: 0.9915, Validation Accuracy: 0.9722, Loss: 0.0085\n",
            "Epoch   9 Batch  120/269 - Train Accuracy: 0.9905, Validation Accuracy: 0.9770, Loss: 0.0091\n",
            "Epoch   9 Batch  140/269 - Train Accuracy: 0.9939, Validation Accuracy: 0.9782, Loss: 0.0088\n",
            "Epoch   9 Batch  160/269 - Train Accuracy: 0.9938, Validation Accuracy: 0.9745, Loss: 0.0069\n",
            "Epoch   9 Batch  180/269 - Train Accuracy: 0.9941, Validation Accuracy: 0.9727, Loss: 0.0070\n",
            "Epoch   9 Batch  200/269 - Train Accuracy: 0.9958, Validation Accuracy: 0.9743, Loss: 0.0055\n",
            "Epoch   9 Batch  220/269 - Train Accuracy: 0.9923, Validation Accuracy: 0.9768, Loss: 0.0072\n",
            "Epoch   9 Batch  240/269 - Train Accuracy: 0.9918, Validation Accuracy: 0.9791, Loss: 0.0087\n",
            "Epoch   9 Batch  260/269 - Train Accuracy: 0.9897, Validation Accuracy: 0.9735, Loss: 0.0080\n",
            "Model Trained and Saved\n"
          ],
          "name": "stdout"
        }
      ]
    },
    {
      "cell_type": "markdown",
      "metadata": {
        "id": "vLk8miSyKprf",
        "colab_type": "text"
      },
      "source": [
        "### Save Parameters\n",
        "Save the `batch_size` and `save_path` parameters for inference."
      ]
    },
    {
      "cell_type": "code",
      "metadata": {
        "id": "DkFlzCp7Kprf",
        "colab_type": "code",
        "colab": {}
      },
      "source": [
        "\n",
        "# Save parameters for checkpoint\n",
        "helper.save_params(save_path)"
      ],
      "execution_count": null,
      "outputs": []
    },
    {
      "cell_type": "markdown",
      "metadata": {
        "id": "pbOmIo5-Kprl",
        "colab_type": "text"
      },
      "source": [
        "# Checkpoint"
      ]
    },
    {
      "cell_type": "code",
      "metadata": {
        "id": "13MkgTlLKprl",
        "colab_type": "code",
        "colab": {}
      },
      "source": [
        "\n",
        "import tensorflow as tf\n",
        "import numpy as np\n",
        "import helper\n",
        "import problem_unittests as tests\n",
        "\n",
        "_, (source_vocab_to_int, target_vocab_to_int), (source_int_to_vocab, target_int_to_vocab) = helper.load_preprocess()\n",
        "load_path = helper.load_params()"
      ],
      "execution_count": null,
      "outputs": []
    },
    {
      "cell_type": "markdown",
      "metadata": {
        "id": "fBoXzqxEKprp",
        "colab_type": "text"
      },
      "source": [
        "## Sentence to Sequence\n",
        "To feed a sentence into the model for translation, you first need to preprocess it.  Implement the function `sentence_to_seq()` to preprocess new sentences.\n",
        "\n",
        "- Convert the sentence to lowercase\n",
        "- Convert words into ids using `vocab_to_int`\n",
        " - Convert words not in the vocabulary, to the `<UNK>` word id."
      ]
    },
    {
      "cell_type": "code",
      "metadata": {
        "id": "h1p64y46Kprq",
        "colab_type": "code",
        "colab": {},
        "outputId": "81a23aac-2826-4942-fae5-83919a964deb"
      },
      "source": [
        "def sentence_to_seq(sentence, vocab_to_int):\n",
        "    sentence_as_seq = [vocab_to_int.get(word.lower(), vocab_to_int['<UNK>']) for word in sentence.split()]\n",
        "    \n",
        "    return sentence_as_seq\n",
        "tests.test_sentence_to_seq(sentence_to_seq)"
      ],
      "execution_count": null,
      "outputs": [
        {
          "output_type": "stream",
          "text": [
            "Tests Passed\n"
          ],
          "name": "stdout"
        }
      ]
    },
    {
      "cell_type": "markdown",
      "metadata": {
        "id": "vHi23lsSKprt",
        "colab_type": "text"
      },
      "source": [
        "## Translate\n",
        "This will translate `translate_sentence` from English to French."
      ]
    },
    {
      "cell_type": "code",
      "metadata": {
        "id": "74sLSoQ_Kpru",
        "colab_type": "code",
        "colab": {},
        "outputId": "6920fda1-2411-4c04-f311-3d2619e82c70"
      },
      "source": [
        "translate_sentence = 'he saw a old yellow truck .'\n",
        "translate_sentence = sentence_to_seq(translate_sentence, source_vocab_to_int)\n",
        "\n",
        "loaded_graph = tf.Graph()\n",
        "with tf.Session(graph=loaded_graph) as sess:\n",
        "    # Load saved model\n",
        "    loader = tf.train.import_meta_graph(load_path + '.meta')\n",
        "    loader.restore(sess, load_path)\n",
        "\n",
        "    input_data = loaded_graph.get_tensor_by_name('input:0')\n",
        "    logits = loaded_graph.get_tensor_by_name('predictions:0')\n",
        "    target_sequence_length = loaded_graph.get_tensor_by_name('target_sequence_length:0')\n",
        "    source_sequence_length = loaded_graph.get_tensor_by_name('source_sequence_length:0')\n",
        "    keep_prob = loaded_graph.get_tensor_by_name('keep_prob:0')\n",
        "\n",
        "    translate_logits = sess.run(logits, {input_data: [translate_sentence]*batch_size,\n",
        "                                         target_sequence_length: [len(translate_sentence)*2]*batch_size,\n",
        "                                         source_sequence_length: [len(translate_sentence)]*batch_size,\n",
        "                                         keep_prob: 1.0})[0]\n",
        "\n",
        "print('Input')\n",
        "print('  Word Ids:      {}'.format([i for i in translate_sentence]))\n",
        "print('  English Words: {}'.format([source_int_to_vocab[i] for i in translate_sentence]))\n",
        "\n",
        "print('\\nPrediction')\n",
        "print('  Word Ids:      {}'.format([i for i in translate_logits]))\n",
        "print('  French Words: {}'.format(\" \".join([target_int_to_vocab[i] for i in translate_logits])))\n"
      ],
      "execution_count": null,
      "outputs": [
        {
          "output_type": "stream",
          "text": [
            "INFO:tensorflow:Restoring parameters from checkpoints/dev\n",
            "Input\n",
            "  Word Ids:      [78, 88, 170, 140, 70, 151, 216]\n",
            "  English Words: ['he', 'saw', 'a', 'old', 'yellow', 'truck', '.']\n",
            "\n",
            "Prediction\n",
            "  Word Ids:      [179, 332, 334, 144, 276, 58, 101, 1]\n",
            "  French Words: il a vu un camion jaune . <EOS>\n"
          ],
          "name": "stdout"
        }
      ]
    },
    {
      "cell_type": "markdown",
      "metadata": {
        "id": "p5P2Q0qSKprz",
        "colab_type": "text"
      },
      "source": [
        ""
      ]
    }
  ]
}